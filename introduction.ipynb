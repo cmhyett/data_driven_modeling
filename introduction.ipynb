{
 "cells": [
  {
   "cell_type": "markdown",
   "id": "98bfa7fe",
   "metadata": {},
   "source": [
    "# Data-driven Modeling\n",
    "From wikipedia: \"Data-driven models are a class of computational models that primarily rely on historical data collected throughout a system's or process' lifetime to establish relationships between input, internal, and output variables.\"\n",
    "\n",
    "Data-driven models are - at their highest level - <i>any</i> model that uses data to inform predictions.\n",
    "\n",
    "Contrast this with purely physics-based models that use hypotheses, (or maybe even just guesses) to relate inputs to outputs.\n",
    "\n",
    "# Linear Regression\n",
    "As an example of these two regimes, suppose we want to make predictions about a simple variable $y(x)$"
   ]
  }
 ],
 "metadata": {
  "kernelspec": {
   "display_name": "Julia 1.9.0",
   "language": "julia",
   "name": "julia-1.9"
  },
  "language_info": {
   "file_extension": ".jl",
   "mimetype": "application/julia",
   "name": "julia",
   "version": "1.9.0"
  }
 },
 "nbformat": 4,
 "nbformat_minor": 5
}
